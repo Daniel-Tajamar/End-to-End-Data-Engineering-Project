{
 "cells": [
  {
   "cell_type": "code",
   "execution_count": 0,
   "metadata": {
    "application/vnd.databricks.v1+cell": {
     "cellMetadata": {
      "byteLimit": 2048000,
      "rowLimit": 10000
     },
     "inputWidgets": {},
     "nuid": "0b0ec893-caee-4315-92f0-61e2f246774d",
     "showTitle": false,
     "tableResultSettingsMap": {},
     "title": ""
    }
   },
   "outputs": [],
   "source": [
    "configs = {\n",
    "    \"fs.azure.account.key.datalakegroup2.blob.core.windows.net\": \"\"\n",
    "}"
   ]
  },
  {
   "cell_type": "code",
   "execution_count": 0,
   "metadata": {
    "application/vnd.databricks.v1+cell": {
     "cellMetadata": {
      "byteLimit": 2048000,
      "rowLimit": 10000
     },
     "inputWidgets": {},
     "nuid": "22a9bc40-208c-42dc-9324-5dfa30b4b60a",
     "showTitle": false,
     "tableResultSettingsMap": {},
     "title": ""
    }
   },
   "outputs": [
    {
     "name": "stdout",
     "output_type": "stream",
     "text": [
      "Out[26]: True"
     ]
    }
   ],
   "source": [
    "dbutils.fs.mount(\n",
    "    source=\"wasbs://bronze@datalakegroup2.blob.core.windows.net/\",\n",
    "    mount_point=\"/mnt/bronze\",\n",
    "    extra_configs=configs\n",
    ")"
   ]
  },
  {
   "cell_type": "code",
   "execution_count": 0,
   "metadata": {
    "application/vnd.databricks.v1+cell": {
     "cellMetadata": {
      "byteLimit": 2048000,
      "rowLimit": 10000
     },
     "inputWidgets": {},
     "nuid": "b73a8f2b-7f50-4077-9bcd-c4ff98ce822b",
     "showTitle": false,
     "tableResultSettingsMap": {},
     "title": ""
    }
   },
   "outputs": [
    {
     "name": "stdout",
     "output_type": "stream",
     "text": [
      "Out[28]: True"
     ]
    }
   ],
   "source": [
    "dbutils.fs.mount(\n",
    "    source=\"wasbs://silver@datalakegroup2.blob.core.windows.net/\",\n",
    "    mount_point=\"/mnt/silver\",\n",
    "    extra_configs=configs\n",
    ")"
   ]
  },
  {
   "cell_type": "code",
   "execution_count": 0,
   "metadata": {
    "application/vnd.databricks.v1+cell": {
     "cellMetadata": {
      "byteLimit": 2048000,
      "rowLimit": 10000
     },
     "inputWidgets": {},
     "nuid": "cb8a6c21-6de8-47a3-9a7d-cc6043a602ef",
     "showTitle": false,
     "tableResultSettingsMap": {},
     "title": ""
    }
   },
   "outputs": [
    {
     "name": "stdout",
     "output_type": "stream",
     "text": [
      "Out[30]: True"
     ]
    }
   ],
   "source": [
    "dbutils.fs.mount(\n",
    "    source=\"wasbs://gold@datalakegroup2.blob.core.windows.net/\",\n",
    "    mount_point=\"/mnt/gold\",\n",
    "    extra_configs=configs\n",
    ")"
   ]
  }
 ],
 "metadata": {
  "application/vnd.databricks.v1+notebook": {
   "dashboards": [],
   "environmentMetadata": {
    "base_environment": "",
    "client": "1"
   },
   "language": "python",
   "notebookMetadata": {
    "pythonIndentUnit": 4
   },
   "notebookName": "storage mount",
   "widgets": {}
  },
  "language_info": {
   "name": "python"
  }
 },
 "nbformat": 4,
 "nbformat_minor": 0
}
